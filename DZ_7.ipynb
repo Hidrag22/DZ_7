{
 "cells": [
  {
   "cell_type": "code",
   "execution_count": 45,
   "metadata": {},
   "outputs": [
    {
     "name": "stdout",
     "output_type": "stream",
     "text": [
      "Wednesday, October 2, 2002 -> 2002-10-02 00:00:00\n",
      "Friday, 11.10.13 -> 2013-10-11 00:00:00\n",
      "Thursday, 18 August 1977 -> 1977-08-18 00:00:00\n"
     ]
    }
   ],
   "source": [
    "#ЗАДАНИЕ 1\n",
    "\n",
    "#Библиотека работы со временем\n",
    "from datetime import datetime\n",
    "\n",
    "#Эти даты нужно перевести в datetime\n",
    "the_moscow_time = 'Wednesday, October 2, 2002'\n",
    "the_guardian = 'Friday, 11.10.13'\n",
    "daily_news = 'Thursday, 18 August 1977'\n",
    "\n",
    "#Переводим в нужный формат\n",
    "print(the_moscow_time + ' -> ' + str(datetime.strptime(the_moscow_time, '%A, %B %d, %Y')))\n",
    "print(the_guardian + ' -> ' + str( datetime.strptime(the_guardian, '%A, %d.%m.%y')))\n",
    "print(daily_news + ' -> ' + str(datetime.strptime(daily_news, '%A, %d %B %Y')))"
   ]
  },
  {
   "cell_type": "code",
   "execution_count": 8,
   "metadata": {},
   "outputs": [
    {
     "name": "stdout",
     "output_type": "stream",
     "text": [
      "[True, False, False]\n"
     ]
    }
   ],
   "source": [
    "#ЗАДАНИЕ 2\n",
    "\n",
    "#Дан поток дат в формате YYYY-MM-DD\n",
    "stream = ['2018-04-02', '2018-02-29', '2018-19-02']\n",
    "\n",
    "#Библиотека работы со временем\n",
    "from datetime import datetime\n",
    "\n",
    "#Функция проверки дат на корректность\n",
    "#Входной параметр - список дат\n",
    "#Возвращает список результатов в виде True и False\n",
    "def date_check(date_stream):\n",
    "    #Список результатов\n",
    "    out_stream = []\n",
    "    #Проверяем каждую запись во входящем списке\n",
    "    for date in date_stream:\n",
    "        #Если преобразование получилось, то записываем True\n",
    "        try:\n",
    "            datetime.strptime(date, '%Y-%m-%d')\n",
    "            out_stream.append(True)\n",
    "        #Иначе - False\n",
    "        except:\n",
    "            out_stream.append(False)\n",
    "    return out_stream\n",
    "            \n",
    "#Пример работы\n",
    "print(date_check(stream))"
   ]
  },
  {
   "cell_type": "code",
   "execution_count": 86,
   "metadata": {},
   "outputs": [
    {
     "data": {
      "text/plain": [
       "['2021-01-01',\n",
       " '2021-01-02',\n",
       " '2021-01-03',\n",
       " '2021-01-04',\n",
       " '2021-01-05',\n",
       " '2021-01-06',\n",
       " '2021-01-07']"
      ]
     },
     "execution_count": 86,
     "metadata": {},
     "output_type": "execute_result"
    }
   ],
   "source": [
    "#ЗАДАНИЕ 3\n",
    "\n",
    "#Библиотека работы со временем\n",
    "from datetime import datetime\n",
    "from datetime import timedelta\n",
    "\n",
    "#Функция составления списка дат в формате YYYY-MM-DD\n",
    "#Входные параметры - начальная и конечная даты\n",
    "#Возвращает список от начальной до конечной\n",
    "def date_range(start_date, end_date):\n",
    "    #Список результатов\n",
    "    out_stream = []\n",
    "    #Преобразуем входные строки в даты\n",
    "    try:\n",
    "        start = datetime.strptime(start_date, '%Y-%m-%d')\n",
    "        end = datetime.strptime(end_date, '%Y-%m-%d')\n",
    "        #Проверяем условие: конечная дата должна быть не меньше, чем начальная\n",
    "        if end >= start:\n",
    "            #Счётчик дат\n",
    "            date_counter = start\n",
    "            while date_counter <= end:\n",
    "                out_stream.append(date_counter.strftime('%Y-%m-%d'))\n",
    "                date_counter += timedelta(days = 1)\n",
    "            \n",
    "    #Если формат дат неверный, то ничего не делаем\n",
    "    except:\n",
    "        pass\n",
    "    return out_stream\n",
    "\n",
    "#Пример работы\n",
    "date_range('2021-01-01', '2021-01-07')"
   ]
  },
  {
   "cell_type": "code",
   "execution_count": 9,
   "metadata": {},
   "outputs": [
    {
     "name": "stdout",
     "output_type": "stream",
     "text": [
      "A101\n"
     ]
    },
    {
     "ename": "IndexError",
     "evalue": "list index out of range",
     "output_type": "error",
     "traceback": [
      "\u001b[1;31m---------------------------------------------------------------------------\u001b[0m",
      "\u001b[1;31mIndexError\u001b[0m                                Traceback (most recent call last)",
      "\u001b[1;32m<ipython-input-9-3e3dad459355>\u001b[0m in \u001b[0;36m<module>\u001b[1;34m\u001b[0m\n\u001b[0;32m     12\u001b[0m \u001b[0mprint\u001b[0m\u001b[1;33m(\u001b[0m\u001b[0mdelete_and_return_last_user\u001b[0m\u001b[1;33m(\u001b[0m\u001b[1;36m1\u001b[0m\u001b[1;33m)\u001b[0m\u001b[1;33m)\u001b[0m\u001b[1;33m\u001b[0m\u001b[1;33m\u001b[0m\u001b[0m\n\u001b[0;32m     13\u001b[0m \u001b[1;33m\u001b[0m\u001b[0m\n\u001b[1;32m---> 14\u001b[1;33m \u001b[0mprint\u001b[0m\u001b[1;33m(\u001b[0m\u001b[0mdelete_and_return_last_user\u001b[0m\u001b[1;33m(\u001b[0m\u001b[1;36m1\u001b[0m\u001b[1;33m)\u001b[0m\u001b[1;33m)\u001b[0m\u001b[1;33m\u001b[0m\u001b[1;33m\u001b[0m\u001b[0m\n\u001b[0m",
      "\u001b[1;32m<ipython-input-9-3e3dad459355>\u001b[0m in \u001b[0;36mdelete_and_return_last_user\u001b[1;34m(region, default_list)\u001b[0m\n\u001b[0;32m      8\u001b[0m     \u001b[0melement_to_delete\u001b[0m \u001b[1;33m=\u001b[0m \u001b[0mdefault_list\u001b[0m\u001b[1;33m[\u001b[0m\u001b[1;33m-\u001b[0m\u001b[1;36m1\u001b[0m\u001b[1;33m]\u001b[0m\u001b[1;33m\u001b[0m\u001b[1;33m\u001b[0m\u001b[0m\n\u001b[0;32m      9\u001b[0m     \u001b[0mdefault_list\u001b[0m\u001b[1;33m.\u001b[0m\u001b[0mremove\u001b[0m\u001b[1;33m(\u001b[0m\u001b[0melement_to_delete\u001b[0m\u001b[1;33m)\u001b[0m\u001b[1;33m\u001b[0m\u001b[1;33m\u001b[0m\u001b[0m\n\u001b[1;32m---> 10\u001b[1;33m     \u001b[1;32mreturn\u001b[0m \u001b[0mdefault_list\u001b[0m\u001b[1;33m[\u001b[0m\u001b[0mDEFAULT_USER_COUNT\u001b[0m \u001b[1;33m-\u001b[0m \u001b[1;36m2\u001b[0m\u001b[1;33m]\u001b[0m\u001b[1;33m\u001b[0m\u001b[1;33m\u001b[0m\u001b[0m\n\u001b[0m\u001b[0;32m     11\u001b[0m \u001b[1;33m\u001b[0m\u001b[0m\n\u001b[0;32m     12\u001b[0m \u001b[0mprint\u001b[0m\u001b[1;33m(\u001b[0m\u001b[0mdelete_and_return_last_user\u001b[0m\u001b[1;33m(\u001b[0m\u001b[1;36m1\u001b[0m\u001b[1;33m)\u001b[0m\u001b[1;33m)\u001b[0m\u001b[1;33m\u001b[0m\u001b[1;33m\u001b[0m\u001b[0m\n",
      "\u001b[1;31mIndexError\u001b[0m: list index out of range"
     ]
    }
   ],
   "source": [
    "#ЗАДАНИЕ 4\n",
    "\n",
    "DEFAULT_USER_COUNT = 3\n",
    "\n",
    "def delete_and_return_last_user(region, default_list = ['A100', 'A101', 'A102']):\n",
    "#Удаляет из списка default_list последнего пользователя\n",
    "#и возвращает ID нового последнего пользователя.\n",
    "    element_to_delete = default_list[-1]\n",
    "    default_list.remove(element_to_delete)\n",
    "    return default_list[DEFAULT_USER_COUNT - 2]\n",
    "\n",
    "print(delete_and_return_last_user(1))\n",
    "#При первом выполнении всё выглядит нормально, но на самом деле функция возвращает не ID последнего пользователя,\n",
    "#а ID в зависимости от переменной DEFAULT_USER_COUNT, что не корректно\n",
    "\n",
    "print(delete_and_return_last_user(1))\n",
    "#При повторном выполнении ошибка: IndexError: list index out of range\n",
    "#Ошибка говорит о недопустимом значении индекса (не входит в допустимый диапазон)\n",
    "#Ошибка возникает в момент, когда строка return default_list[DEFAULT_USER_COUNT - 2] обращается к элементу \n",
    "#с индексом [1] в списке default_list. \n",
    "#В начальном состоянии в списке default_list три элемента и при каждом запуске функция удаляет по одному элементу \n",
    "#с конца списка, то есть при втором запуске в сиске default_list остаётся всего один элемент, но при этом возникает \n",
    "#обращение к второму элементу (по порядку второй, а индекс его [1]), это и вызывает ошибку."
   ]
  }
 ],
 "metadata": {
  "kernelspec": {
   "display_name": "Python 3",
   "language": "python",
   "name": "python3"
  },
  "language_info": {
   "codemirror_mode": {
    "name": "ipython",
    "version": 3
   },
   "file_extension": ".py",
   "mimetype": "text/x-python",
   "name": "python",
   "nbconvert_exporter": "python",
   "pygments_lexer": "ipython3",
   "version": "3.8.5"
  }
 },
 "nbformat": 4,
 "nbformat_minor": 4
}
